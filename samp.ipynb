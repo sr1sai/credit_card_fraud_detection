{
  "cells": [
    {
      "cell_type": "code",
      "execution_count": null,
      "metadata": {
        "colab": {
          "base_uri": "https://localhost:8080/"
        },
        "collapsed": true,
        "id": "Q70D95dMuX72",
        "outputId": "c94ac84a-c54b-432a-b62d-71e4cb890bce"
      },
      "outputs": [
        {
          "output_type": "stream",
          "name": "stdout",
          "text": [
            "Collecting catboost\n",
            "  Downloading catboost-1.2.5-cp310-cp310-manylinux2014_x86_64.whl (98.2 MB)\n",
            "\u001b[2K     \u001b[90m━━━━━━━━━━━━━━━━━━━━━━━━━━━━━━━━━━━━━━━━\u001b[0m \u001b[32m98.2/98.2 MB\u001b[0m \u001b[31m2.6 MB/s\u001b[0m eta \u001b[36m0:00:00\u001b[0m\n",
            "\u001b[?25hRequirement already satisfied: graphviz in /usr/local/lib/python3.10/dist-packages (from catboost) (0.20.3)\n",
            "Requirement already satisfied: matplotlib in /usr/local/lib/python3.10/dist-packages (from catboost) (3.7.1)\n",
            "Requirement already satisfied: numpy>=1.16.0 in /usr/local/lib/python3.10/dist-packages (from catboost) (1.25.2)\n",
            "Requirement already satisfied: pandas>=0.24 in /usr/local/lib/python3.10/dist-packages (from catboost) (2.0.3)\n",
            "Requirement already satisfied: scipy in /usr/local/lib/python3.10/dist-packages (from catboost) (1.11.4)\n",
            "Requirement already satisfied: plotly in /usr/local/lib/python3.10/dist-packages (from catboost) (5.15.0)\n",
            "Requirement already satisfied: six in /usr/local/lib/python3.10/dist-packages (from catboost) (1.16.0)\n",
            "Requirement already satisfied: python-dateutil>=2.8.2 in /usr/local/lib/python3.10/dist-packages (from pandas>=0.24->catboost) (2.8.2)\n",
            "Requirement already satisfied: pytz>=2020.1 in /usr/local/lib/python3.10/dist-packages (from pandas>=0.24->catboost) (2023.4)\n",
            "Requirement already satisfied: tzdata>=2022.1 in /usr/local/lib/python3.10/dist-packages (from pandas>=0.24->catboost) (2024.1)\n",
            "Requirement already satisfied: contourpy>=1.0.1 in /usr/local/lib/python3.10/dist-packages (from matplotlib->catboost) (1.2.1)\n",
            "Requirement already satisfied: cycler>=0.10 in /usr/local/lib/python3.10/dist-packages (from matplotlib->catboost) (0.12.1)\n",
            "Requirement already satisfied: fonttools>=4.22.0 in /usr/local/lib/python3.10/dist-packages (from matplotlib->catboost) (4.51.0)\n",
            "Requirement already satisfied: kiwisolver>=1.0.1 in /usr/local/lib/python3.10/dist-packages (from matplotlib->catboost) (1.4.5)\n",
            "Requirement already satisfied: packaging>=20.0 in /usr/local/lib/python3.10/dist-packages (from matplotlib->catboost) (24.0)\n",
            "Requirement already satisfied: pillow>=6.2.0 in /usr/local/lib/python3.10/dist-packages (from matplotlib->catboost) (9.4.0)\n",
            "Requirement already satisfied: pyparsing>=2.3.1 in /usr/local/lib/python3.10/dist-packages (from matplotlib->catboost) (3.1.2)\n",
            "Requirement already satisfied: tenacity>=6.2.0 in /usr/local/lib/python3.10/dist-packages (from plotly->catboost) (8.3.0)\n",
            "Installing collected packages: catboost\n",
            "Successfully installed catboost-1.2.5\n"
          ]
        }
      ],
      "source": [
        "pip install catboost"
      ]
    },
    {
      "cell_type": "code",
      "execution_count": null,
      "metadata": {
        "colab": {
          "base_uri": "https://localhost:8080/"
        },
        "collapsed": true,
        "id": "9mNYuWqz6011",
        "outputId": "8f5bd594-bb73-464c-cbfc-aa822593d8a3"
      },
      "outputs": [
        {
          "output_type": "stream",
          "name": "stdout",
          "text": [
            "Requirement already satisfied: xgboost in /usr/local/lib/python3.10/dist-packages (2.0.3)\n",
            "Requirement already satisfied: numpy in /usr/local/lib/python3.10/dist-packages (from xgboost) (1.25.2)\n",
            "Requirement already satisfied: scipy in /usr/local/lib/python3.10/dist-packages (from xgboost) (1.11.4)\n"
          ]
        }
      ],
      "source": [
        "pip install xgboost"
      ]
    },
    {
      "cell_type": "code",
      "execution_count": null,
      "metadata": {
        "id": "2joRn-KN5PFh"
      },
      "outputs": [],
      "source": [
        "import numpy as np\n",
        "import pandas as pd\n",
        "import time\n",
        "import random\n",
        "import matplotlib.pyplot as plt\n",
        "from sklearn.model_selection import train_test_split\n",
        "from sklearn.tree import DecisionTreeClassifier\n",
        "from sklearn.ensemble import RandomForestClassifier, GradientBoostingClassifier\n",
        "from catboost import CatBoostClassifier\n",
        "from sklearn.ensemble import BaggingClassifier\n",
        "from sklearn.svm import SVC\n",
        "from sklearn.neighbors import KNeighborsClassifier\n",
        "from sklearn.metrics import accuracy_score, precision_score, recall_score, f1_score\n",
        "from sklearn.metrics import roc_auc_score\n",
        "from sklearn.preprocessing import StandardScaler\n",
        "from imblearn.over_sampling import SMOTE\n",
        "from imblearn.under_sampling import RandomUnderSampler\n",
        "from sklearn.ensemble import BaggingClassifier, VotingClassifier\n",
        "from imblearn.over_sampling import ADASYN\n",
        "from joblib import Parallel, delayed\n",
        "from sklearn.ensemble import RandomForestClassifier, GradientBoostingClassifier, VotingClassifier\n",
        "from catboost import CatBoostClassifier\n",
        "from sklearn.ensemble import BaggingClassifier\n",
        "from sklearn.ensemble import AdaBoostClassifier"
      ]
    },
    {
      "cell_type": "code",
      "execution_count": null,
      "metadata": {
        "id": "PfMCzFIzWqfL"
      },
      "outputs": [],
      "source": [
        "def train_classifier(i, x, y):\n",
        "    classifiers_list[i].fit(x, y)\n",
        "    return classifiers_list[i]"
      ]
    },
    {
      "cell_type": "code",
      "execution_count": null,
      "metadata": {
        "id": "5qAN3NkwdfpR"
      },
      "outputs": [],
      "source": [
        "def allocate_classifier():\n",
        "  return DecisionTreeClassifier()"
      ]
    },
    {
      "cell_type": "code",
      "execution_count": null,
      "metadata": {
        "id": "UBSWGRePWt_X"
      },
      "outputs": [],
      "source": [
        "datainput = pd.read_csv('/content/drive/MyDrive/dmt_proj/creditcard.csv')"
      ]
    },
    {
      "cell_type": "code",
      "execution_count": null,
      "metadata": {
        "id": "CmTkRNxpWupv"
      },
      "outputs": [],
      "source": [
        "# missing values\n",
        "datainput = datainput.fillna(datainput.mean())"
      ]
    },
    {
      "cell_type": "code",
      "execution_count": null,
      "metadata": {
        "colab": {
          "base_uri": "https://localhost:8080/"
        },
        "id": "nF0_j9sGYgyF",
        "outputId": "cda944bd-4e7c-47e6-cd76-b234354f2317"
      },
      "outputs": [
        {
          "name": "stdout",
          "output_type": "stream",
          "text": [
            "284807\n"
          ]
        }
      ],
      "source": [
        "print(len(datainput))"
      ]
    },
    {
      "cell_type": "code",
      "execution_count": null,
      "metadata": {
        "id": "WZBlPVIDHkpp"
      },
      "outputs": [],
      "source": [
        "adasyn = ADASYN()\n",
        "X_resampled, y_resampled = adasyn.fit_resample(datainput.drop(columns=['Class']), datainput['Class'])\n",
        "datainput = pd.concat([pd.DataFrame(X_resampled), pd.DataFrame(y_resampled, columns=['Class'])], axis=1)"
      ]
    },
    {
      "cell_type": "code",
      "execution_count": null,
      "metadata": {
        "id": "K56u1avvWxQ2"
      },
      "outputs": [],
      "source": [
        "# Scale features\n",
        "scaler = StandardScaler()\n",
        "datainput.iloc[:, :-1] = scaler.fit_transform(datainput.iloc[:, :-1])  # Scale all features except target"
      ]
    },
    {
      "cell_type": "code",
      "execution_count": null,
      "metadata": {
        "id": "XFNAGYfIWy0L"
      },
      "outputs": [],
      "source": [
        "valid=datainput[datainput['Class']==0]\n",
        "fraud=datainput[datainput['Class']==1]"
      ]
    },
    {
      "cell_type": "code",
      "execution_count": null,
      "metadata": {
        "colab": {
          "base_uri": "https://localhost:8080/"
        },
        "id": "_BBpvnBUYZQm",
        "outputId": "9cc53265-24fb-467a-ea79-eb2b9b93b7be"
      },
      "outputs": [
        {
          "name": "stdout",
          "output_type": "stream",
          "text": [
            "284315 492 0.0017304750013189597\n"
          ]
        }
      ],
      "source": [
        "print(len(valid),len(fraud),(len(fraud)/len(valid)))"
      ]
    },
    {
      "cell_type": "code",
      "execution_count": null,
      "metadata": {
        "id": "Z_T7YDfDMpgz"
      },
      "outputs": [],
      "source": [
        "class_balance= True if (len(fraud)/len(valid))>=.90 else False"
      ]
    },
    {
      "cell_type": "code",
      "execution_count": null,
      "metadata": {
        "colab": {
          "base_uri": "https://localhost:8080/"
        },
        "id": "H02d-dSGM6pg",
        "outputId": "0f9210b2-5922-46bc-9c3f-fb2dc10163aa"
      },
      "outputs": [
        {
          "name": "stdout",
          "output_type": "stream",
          "text": [
            "False\n"
          ]
        }
      ],
      "source": [
        "print(class_balance)"
      ]
    },
    {
      "cell_type": "code",
      "execution_count": null,
      "metadata": {
        "colab": {
          "base_uri": "https://localhost:8080/"
        },
        "id": "XqObmmyjW1MK",
        "outputId": "bc1e4930-3a68-4d94-bc0e-bdbee1b0f496"
      },
      "outputs": [
        {
          "name": "stdout",
          "output_type": "stream",
          "text": [
            "Fraction:30\n"
          ]
        }
      ],
      "source": [
        "n=int(input(\"Fraction:\"))"
      ]
    },
    {
      "cell_type": "code",
      "execution_count": null,
      "metadata": {
        "id": "4gCYs_TCW4TG"
      },
      "outputs": [],
      "source": [
        "fraud_test = fraud.sample(frac=n/100, random_state=42)\n",
        "fraud = fraud.drop(fraud_test.index)"
      ]
    },
    {
      "cell_type": "code",
      "execution_count": null,
      "metadata": {
        "id": "dvVEw2XRW436"
      },
      "outputs": [],
      "source": [
        "valid_test = valid.sample(frac=len(fraud_test)/len(valid), random_state=42)\n",
        "valid = valid.drop(valid_test.index)"
      ]
    },
    {
      "cell_type": "code",
      "execution_count": null,
      "metadata": {
        "colab": {
          "base_uri": "https://localhost:8080/"
        },
        "id": "0-iah_Y0Lilo",
        "outputId": "218ceb5d-2572-46e3-e983-1090c043a3bc"
      },
      "outputs": [
        {
          "name": "stdout",
          "output_type": "stream",
          "text": [
            "148 148\n"
          ]
        }
      ],
      "source": [
        "print(len(valid_test),len(fraud_test))"
      ]
    },
    {
      "cell_type": "code",
      "execution_count": null,
      "metadata": {
        "colab": {
          "base_uri": "https://localhost:8080/"
        },
        "id": "ErexDRfAMDId",
        "outputId": "3100bc21-ee20-48eb-b8e5-56a099c48c18"
      },
      "outputs": [
        {
          "name": "stdout",
          "output_type": "stream",
          "text": [
            "284167 344\n"
          ]
        }
      ],
      "source": [
        "print(len(valid),len(fraud))"
      ]
    },
    {
      "cell_type": "code",
      "execution_count": null,
      "metadata": {
        "colab": {
          "base_uri": "https://localhost:8080/",
          "height": 373
        },
        "id": "H54toVQyW-JG",
        "outputId": "2fe816f2-2bf2-48d0-cff3-e259712c184d"
      },
      "outputs": [
        {
          "ename": "KeyboardInterrupt",
          "evalue": "",
          "output_type": "error",
          "traceback": [
            "\u001b[0;31m---------------------------------------------------------------------------\u001b[0m",
            "\u001b[0;31mKeyboardInterrupt\u001b[0m                         Traceback (most recent call last)",
            "\u001b[0;32m<ipython-input-19-b9f8eb97b15d>\u001b[0m in \u001b[0;36m<cell line: 5>\u001b[0;34m()\u001b[0m\n\u001b[1;32m     23\u001b[0m   \u001b[0;32mwhile\u001b[0m \u001b[0mi\u001b[0m\u001b[0;34m<\u001b[0m\u001b[0mlimit\u001b[0m\u001b[0;34m:\u001b[0m\u001b[0;34m\u001b[0m\u001b[0;34m\u001b[0m\u001b[0m\n\u001b[1;32m     24\u001b[0m       \u001b[0msubset\u001b[0m \u001b[0;34m=\u001b[0m \u001b[0mvalid\u001b[0m\u001b[0;34m.\u001b[0m\u001b[0msample\u001b[0m\u001b[0;34m(\u001b[0m\u001b[0mn\u001b[0m\u001b[0;34m=\u001b[0m\u001b[0mfraud_train_size\u001b[0m\u001b[0;34m)\u001b[0m\u001b[0;34m\u001b[0m\u001b[0;34m\u001b[0m\u001b[0m\n\u001b[0;32m---> 25\u001b[0;31m       \u001b[0mvalid\u001b[0m \u001b[0;34m=\u001b[0m \u001b[0mvalid\u001b[0m\u001b[0;34m.\u001b[0m\u001b[0mdrop\u001b[0m\u001b[0;34m(\u001b[0m\u001b[0msubset\u001b[0m\u001b[0;34m.\u001b[0m\u001b[0mindex\u001b[0m\u001b[0;34m)\u001b[0m\u001b[0;34m\u001b[0m\u001b[0;34m\u001b[0m\u001b[0m\n\u001b[0m\u001b[1;32m     26\u001b[0m       \u001b[0mtrain_list\u001b[0m\u001b[0;34m.\u001b[0m\u001b[0mappend\u001b[0m\u001b[0;34m(\u001b[0m\u001b[0msubset\u001b[0m\u001b[0;34m)\u001b[0m\u001b[0;34m\u001b[0m\u001b[0;34m\u001b[0m\u001b[0m\n\u001b[1;32m     27\u001b[0m       \u001b[0mclassifiers_list\u001b[0m\u001b[0;34m.\u001b[0m\u001b[0mappend\u001b[0m\u001b[0;34m(\u001b[0m\u001b[0mallocate_classifier\u001b[0m\u001b[0;34m(\u001b[0m\u001b[0;34m)\u001b[0m\u001b[0;34m)\u001b[0m\u001b[0;34m\u001b[0m\u001b[0;34m\u001b[0m\u001b[0m\n",
            "\u001b[0;32m/usr/local/lib/python3.10/dist-packages/pandas/core/frame.py\u001b[0m in \u001b[0;36mdrop\u001b[0;34m(self, labels, axis, index, columns, level, inplace, errors)\u001b[0m\n\u001b[1;32m   5256\u001b[0m                 \u001b[0mweight\u001b[0m  \u001b[0;36m1.0\u001b[0m     \u001b[0;36m0.8\u001b[0m\u001b[0;34m\u001b[0m\u001b[0;34m\u001b[0m\u001b[0m\n\u001b[1;32m   5257\u001b[0m         \"\"\"\n\u001b[0;32m-> 5258\u001b[0;31m         return super().drop(\n\u001b[0m\u001b[1;32m   5259\u001b[0m             \u001b[0mlabels\u001b[0m\u001b[0;34m=\u001b[0m\u001b[0mlabels\u001b[0m\u001b[0;34m,\u001b[0m\u001b[0;34m\u001b[0m\u001b[0;34m\u001b[0m\u001b[0m\n\u001b[1;32m   5260\u001b[0m             \u001b[0maxis\u001b[0m\u001b[0;34m=\u001b[0m\u001b[0maxis\u001b[0m\u001b[0;34m,\u001b[0m\u001b[0;34m\u001b[0m\u001b[0;34m\u001b[0m\u001b[0m\n",
            "\u001b[0;32m/usr/local/lib/python3.10/dist-packages/pandas/core/generic.py\u001b[0m in \u001b[0;36mdrop\u001b[0;34m(self, labels, axis, index, columns, level, inplace, errors)\u001b[0m\n\u001b[1;32m   4547\u001b[0m         \u001b[0;32mfor\u001b[0m \u001b[0maxis\u001b[0m\u001b[0;34m,\u001b[0m \u001b[0mlabels\u001b[0m \u001b[0;32min\u001b[0m \u001b[0maxes\u001b[0m\u001b[0;34m.\u001b[0m\u001b[0mitems\u001b[0m\u001b[0;34m(\u001b[0m\u001b[0;34m)\u001b[0m\u001b[0;34m:\u001b[0m\u001b[0;34m\u001b[0m\u001b[0;34m\u001b[0m\u001b[0m\n\u001b[1;32m   4548\u001b[0m             \u001b[0;32mif\u001b[0m \u001b[0mlabels\u001b[0m \u001b[0;32mis\u001b[0m \u001b[0;32mnot\u001b[0m \u001b[0;32mNone\u001b[0m\u001b[0;34m:\u001b[0m\u001b[0;34m\u001b[0m\u001b[0;34m\u001b[0m\u001b[0m\n\u001b[0;32m-> 4549\u001b[0;31m                 \u001b[0mobj\u001b[0m \u001b[0;34m=\u001b[0m \u001b[0mobj\u001b[0m\u001b[0;34m.\u001b[0m\u001b[0m_drop_axis\u001b[0m\u001b[0;34m(\u001b[0m\u001b[0mlabels\u001b[0m\u001b[0;34m,\u001b[0m \u001b[0maxis\u001b[0m\u001b[0;34m,\u001b[0m \u001b[0mlevel\u001b[0m\u001b[0;34m=\u001b[0m\u001b[0mlevel\u001b[0m\u001b[0;34m,\u001b[0m \u001b[0merrors\u001b[0m\u001b[0;34m=\u001b[0m\u001b[0merrors\u001b[0m\u001b[0;34m)\u001b[0m\u001b[0;34m\u001b[0m\u001b[0;34m\u001b[0m\u001b[0m\n\u001b[0m\u001b[1;32m   4550\u001b[0m \u001b[0;34m\u001b[0m\u001b[0m\n\u001b[1;32m   4551\u001b[0m         \u001b[0;32mif\u001b[0m \u001b[0minplace\u001b[0m\u001b[0;34m:\u001b[0m\u001b[0;34m\u001b[0m\u001b[0;34m\u001b[0m\u001b[0m\n",
            "\u001b[0;32m/usr/local/lib/python3.10/dist-packages/pandas/core/generic.py\u001b[0m in \u001b[0;36m_drop_axis\u001b[0;34m(self, labels, axis, level, errors, only_slice)\u001b[0m\n\u001b[1;32m   4628\u001b[0m \u001b[0;34m\u001b[0m\u001b[0m\n\u001b[1;32m   4629\u001b[0m         \u001b[0mbm_axis\u001b[0m \u001b[0;34m=\u001b[0m \u001b[0mself\u001b[0m\u001b[0;34m.\u001b[0m\u001b[0mndim\u001b[0m \u001b[0;34m-\u001b[0m \u001b[0maxis_num\u001b[0m \u001b[0;34m-\u001b[0m \u001b[0;36m1\u001b[0m\u001b[0;34m\u001b[0m\u001b[0;34m\u001b[0m\u001b[0m\n\u001b[0;32m-> 4630\u001b[0;31m         new_mgr = self._mgr.reindex_indexer(\n\u001b[0m\u001b[1;32m   4631\u001b[0m             \u001b[0mnew_axis\u001b[0m\u001b[0;34m,\u001b[0m\u001b[0;34m\u001b[0m\u001b[0;34m\u001b[0m\u001b[0m\n\u001b[1;32m   4632\u001b[0m             \u001b[0mindexer\u001b[0m\u001b[0;34m,\u001b[0m\u001b[0;34m\u001b[0m\u001b[0;34m\u001b[0m\u001b[0m\n",
            "\u001b[0;32m/usr/local/lib/python3.10/dist-packages/pandas/core/internals/managers.py\u001b[0m in \u001b[0;36mreindex_indexer\u001b[0;34m(self, new_axis, indexer, axis, fill_value, allow_dups, copy, only_slice, use_na_proxy)\u001b[0m\n\u001b[1;32m    745\u001b[0m             )\n\u001b[1;32m    746\u001b[0m         \u001b[0;32melse\u001b[0m\u001b[0;34m:\u001b[0m\u001b[0;34m\u001b[0m\u001b[0;34m\u001b[0m\u001b[0m\n\u001b[0;32m--> 747\u001b[0;31m             new_blocks = [\n\u001b[0m\u001b[1;32m    748\u001b[0m                 blk.take_nd(\n\u001b[1;32m    749\u001b[0m                     \u001b[0mindexer\u001b[0m\u001b[0;34m,\u001b[0m\u001b[0;34m\u001b[0m\u001b[0;34m\u001b[0m\u001b[0m\n",
            "\u001b[0;32m/usr/local/lib/python3.10/dist-packages/pandas/core/internals/managers.py\u001b[0m in \u001b[0;36m<listcomp>\u001b[0;34m(.0)\u001b[0m\n\u001b[1;32m    746\u001b[0m         \u001b[0;32melse\u001b[0m\u001b[0;34m:\u001b[0m\u001b[0;34m\u001b[0m\u001b[0;34m\u001b[0m\u001b[0m\n\u001b[1;32m    747\u001b[0m             new_blocks = [\n\u001b[0;32m--> 748\u001b[0;31m                 blk.take_nd(\n\u001b[0m\u001b[1;32m    749\u001b[0m                     \u001b[0mindexer\u001b[0m\u001b[0;34m,\u001b[0m\u001b[0;34m\u001b[0m\u001b[0;34m\u001b[0m\u001b[0m\n\u001b[1;32m    750\u001b[0m                     \u001b[0maxis\u001b[0m\u001b[0;34m=\u001b[0m\u001b[0;36m1\u001b[0m\u001b[0;34m,\u001b[0m\u001b[0;34m\u001b[0m\u001b[0;34m\u001b[0m\u001b[0m\n",
            "\u001b[0;32m/usr/local/lib/python3.10/dist-packages/pandas/core/internals/blocks.py\u001b[0m in \u001b[0;36mtake_nd\u001b[0;34m(self, indexer, axis, new_mgr_locs, fill_value)\u001b[0m\n\u001b[1;32m    943\u001b[0m \u001b[0;34m\u001b[0m\u001b[0m\n\u001b[1;32m    944\u001b[0m         \u001b[0;31m# Note: algos.take_nd has upcast logic similar to coerce_to_target_dtype\u001b[0m\u001b[0;34m\u001b[0m\u001b[0;34m\u001b[0m\u001b[0m\n\u001b[0;32m--> 945\u001b[0;31m         new_values = algos.take_nd(\n\u001b[0m\u001b[1;32m    946\u001b[0m             \u001b[0mvalues\u001b[0m\u001b[0;34m,\u001b[0m \u001b[0mindexer\u001b[0m\u001b[0;34m,\u001b[0m \u001b[0maxis\u001b[0m\u001b[0;34m=\u001b[0m\u001b[0maxis\u001b[0m\u001b[0;34m,\u001b[0m \u001b[0mallow_fill\u001b[0m\u001b[0;34m=\u001b[0m\u001b[0mallow_fill\u001b[0m\u001b[0;34m,\u001b[0m \u001b[0mfill_value\u001b[0m\u001b[0;34m=\u001b[0m\u001b[0mfill_value\u001b[0m\u001b[0;34m\u001b[0m\u001b[0;34m\u001b[0m\u001b[0m\n\u001b[1;32m    947\u001b[0m         )\n",
            "\u001b[0;32m/usr/local/lib/python3.10/dist-packages/pandas/core/array_algos/take.py\u001b[0m in \u001b[0;36mtake_nd\u001b[0;34m(arr, indexer, axis, fill_value, allow_fill)\u001b[0m\n\u001b[1;32m    115\u001b[0m \u001b[0;34m\u001b[0m\u001b[0m\n\u001b[1;32m    116\u001b[0m     \u001b[0marr\u001b[0m \u001b[0;34m=\u001b[0m \u001b[0mnp\u001b[0m\u001b[0;34m.\u001b[0m\u001b[0masarray\u001b[0m\u001b[0;34m(\u001b[0m\u001b[0marr\u001b[0m\u001b[0;34m)\u001b[0m\u001b[0;34m\u001b[0m\u001b[0;34m\u001b[0m\u001b[0m\n\u001b[0;32m--> 117\u001b[0;31m     \u001b[0;32mreturn\u001b[0m \u001b[0m_take_nd_ndarray\u001b[0m\u001b[0;34m(\u001b[0m\u001b[0marr\u001b[0m\u001b[0;34m,\u001b[0m \u001b[0mindexer\u001b[0m\u001b[0;34m,\u001b[0m \u001b[0maxis\u001b[0m\u001b[0;34m,\u001b[0m \u001b[0mfill_value\u001b[0m\u001b[0;34m,\u001b[0m \u001b[0mallow_fill\u001b[0m\u001b[0;34m)\u001b[0m\u001b[0;34m\u001b[0m\u001b[0;34m\u001b[0m\u001b[0m\n\u001b[0m\u001b[1;32m    118\u001b[0m \u001b[0;34m\u001b[0m\u001b[0m\n\u001b[1;32m    119\u001b[0m \u001b[0;34m\u001b[0m\u001b[0m\n",
            "\u001b[0;32m/usr/local/lib/python3.10/dist-packages/pandas/core/array_algos/take.py\u001b[0m in \u001b[0;36m_take_nd_ndarray\u001b[0;34m(arr, indexer, axis, fill_value, allow_fill)\u001b[0m\n\u001b[1;32m    160\u001b[0m         \u001b[0marr\u001b[0m\u001b[0;34m.\u001b[0m\u001b[0mndim\u001b[0m\u001b[0;34m,\u001b[0m \u001b[0marr\u001b[0m\u001b[0;34m.\u001b[0m\u001b[0mdtype\u001b[0m\u001b[0;34m,\u001b[0m \u001b[0mout\u001b[0m\u001b[0;34m.\u001b[0m\u001b[0mdtype\u001b[0m\u001b[0;34m,\u001b[0m \u001b[0maxis\u001b[0m\u001b[0;34m=\u001b[0m\u001b[0maxis\u001b[0m\u001b[0;34m,\u001b[0m \u001b[0mmask_info\u001b[0m\u001b[0;34m=\u001b[0m\u001b[0mmask_info\u001b[0m\u001b[0;34m\u001b[0m\u001b[0;34m\u001b[0m\u001b[0m\n\u001b[1;32m    161\u001b[0m     )\n\u001b[0;32m--> 162\u001b[0;31m     \u001b[0mfunc\u001b[0m\u001b[0;34m(\u001b[0m\u001b[0marr\u001b[0m\u001b[0;34m,\u001b[0m \u001b[0mindexer\u001b[0m\u001b[0;34m,\u001b[0m \u001b[0mout\u001b[0m\u001b[0;34m,\u001b[0m \u001b[0mfill_value\u001b[0m\u001b[0;34m)\u001b[0m\u001b[0;34m\u001b[0m\u001b[0;34m\u001b[0m\u001b[0m\n\u001b[0m\u001b[1;32m    163\u001b[0m \u001b[0;34m\u001b[0m\u001b[0m\n\u001b[1;32m    164\u001b[0m     \u001b[0;32mif\u001b[0m \u001b[0mflip_order\u001b[0m\u001b[0;34m:\u001b[0m\u001b[0;34m\u001b[0m\u001b[0;34m\u001b[0m\u001b[0m\n",
            "\u001b[0;31mKeyboardInterrupt\u001b[0m: "
          ]
        }
      ],
      "source": [
        "train_list = []\n",
        "global classifiers_list\n",
        "classifiers_list=[]\n",
        "i=0\n",
        "if class_balance:\n",
        "  fraud_train_size=1000\n",
        "  limit=(len(valid)//1000)\n",
        "  while i<limit:\n",
        "    valid_subset = valid.sample(n=fraud_train_size)\n",
        "    valid = valid.drop(valid_subset.index)\n",
        "    fraud_subset = fraud.sample(n=fraud_train_size)\n",
        "    fraud = fraud.drop(fraud_subset.index)\n",
        "    train_list.append(pd.concat([valid_subset, fraud_subset]))\n",
        "    classifiers_list.append(allocate_classifier())\n",
        "    i+=1\n",
        "\n",
        "  if len(valid)>0 and len(fraud)>0:\n",
        "    train_list.append(pd.concat([valid,fraud]))\n",
        "    classifiers_list.append(allocate_classifier())\n",
        "else:\n",
        "  fraud_train_size=len(fraud)\n",
        "  limit=(len(valid)//len(fraud))\n",
        "  while i<limit:\n",
        "      subset = valid.sample(n=fraud_train_size)\n",
        "      valid = valid.drop(subset.index)\n",
        "      train_list.append(subset)\n",
        "      classifiers_list.append(allocate_classifier())\n",
        "      i+=1\n",
        "\n",
        "  for i in range(len(train_list)):\n",
        "      train_list[i] = pd.concat([fraud, train_list[i]])\n",
        "\n",
        "  if len(valid)>0:\n",
        "      last_piece=fraud.sample(n=len(valid))\n",
        "      train_list.append(pd.concat([valid,last_piece]))\n",
        "      classifiers_list.append(allocate_classifier())"
      ]
    },
    {
      "cell_type": "code",
      "execution_count": null,
      "metadata": {
        "colab": {
          "base_uri": "https://localhost:8080/"
        },
        "id": "THQPJT6FXAND",
        "outputId": "153e1e35-ad02-4069-b883-01b00260d015"
      },
      "outputs": [
        {
          "data": {
            "text/plain": [
              "(827, 688, 827)"
            ]
          },
          "execution_count": 62,
          "metadata": {},
          "output_type": "execute_result"
        }
      ],
      "source": [
        "len(train_list),len(train_list[0]),len(classifiers_list)"
      ]
    },
    {
      "cell_type": "code",
      "execution_count": null,
      "metadata": {
        "id": "VsiehHr1XB3m"
      },
      "outputs": [],
      "source": [
        "len(train_list),len(train_list[0]),len(classifiers_list)"
      ]
    },
    {
      "cell_type": "code",
      "execution_count": null,
      "metadata": {
        "id": "-QvRvGR-XDlO"
      },
      "outputs": [],
      "source": [
        "test = pd.concat([fraud_test, valid_test])"
      ]
    },
    {
      "cell_type": "code",
      "execution_count": null,
      "metadata": {
        "id": "ZU4gjOQpXEgG"
      },
      "outputs": [],
      "source": [
        "X_test=test.iloc[:,:-1].values\n",
        "Y_test=test.iloc[:, -1].values"
      ]
    },
    {
      "cell_type": "code",
      "execution_count": null,
      "metadata": {
        "id": "BOtPLxjaXGbD"
      },
      "outputs": [],
      "source": [
        "# Initialize a list to store predictions\n",
        "pred = []\n",
        "for i in range(len(classifiers_list)):\n",
        "    pred.append(classifiers_list[i].predict(X_test))"
      ]
    },
    {
      "cell_type": "code",
      "execution_count": null,
      "metadata": {
        "id": "DklPHJ-CXINP"
      },
      "outputs": [],
      "source": [
        "Y_pred=[]\n",
        "for i in range(len(pred[0])):\n",
        "    temp=[]\n",
        "    for j in pred:\n",
        "        temp.append(j[i])\n",
        "    Y_pred.append([1 if temp.count(1)>temp.count(0) else 0])"
      ]
    },
    {
      "cell_type": "code",
      "execution_count": null,
      "metadata": {
        "id": "Ge4Ll-VGXJ8T"
      },
      "outputs": [],
      "source": [
        "accuracy = accuracy_score(Y_test, Y_pred)\n",
        "precision = precision_score(Y_test, Y_pred)\n",
        "recall = recall_score(Y_test, Y_pred)\n",
        "f1 = f1_score(Y_test, Y_pred)\n",
        "auc_roc = roc_auc_score(Y_test, Y_pred)"
      ]
    },
    {
      "cell_type": "code",
      "execution_count": null,
      "metadata": {
        "colab": {
          "base_uri": "https://localhost:8080/"
        },
        "id": "1GBZxPEYXMO6",
        "outputId": "e0de0b0a-c81e-4809-e43a-5c9f6fd804b9"
      },
      "outputs": [
        {
          "name": "stdout",
          "output_type": "stream",
          "text": [
            "Accuracy: 94.93% Precision: 95.86% Recall: 93.92% F1 Score: 94.88% AUC-ROC: 94.9324\n"
          ]
        }
      ],
      "source": [
        "print(f\"Accuracy: {accuracy*100:.2f}% Precision: {precision*100:.2f}% Recall: {recall*100:.2f}% F1 Score: {f1*100:.2f}% AUC-ROC: {auc_roc*100:.4f}\")"
      ]
    },
    {
      "cell_type": "code",
      "execution_count": null,
      "metadata": {
        "colab": {
          "base_uri": "https://localhost:8080/"
        },
        "id": "1jkWZUdRXPGv",
        "outputId": "922df8e6-a700-4bb1-920f-6fa65571f546"
      },
      "outputs": [
        {
          "name": "stdout",
          "output_type": "stream",
          "text": [
            "30\n"
          ]
        }
      ],
      "source": [
        "print(n)"
      ]
    },
    {
      "cell_type": "code",
      "execution_count": null,
      "metadata": {
        "colab": {
          "base_uri": "https://localhost:8080/",
          "height": 472
        },
        "id": "pRibBMwCXPzq",
        "outputId": "f0de7c39-54ab-46aa-ae4e-6d67c9d2ca0b"
      },
      "outputs": [
        {
          "data": {
            "image/png": "[encoded data removed]",
            "text/plain": [
              "<Figure size 640x480 with 2 Axes>"
            ]
          },
          "metadata": {},
          "output_type": "display_data"
        }
      ],
      "source": [
        "import matplotlib.pyplot as plt\n",
        "from sklearn.metrics import confusion_matrix\n",
        "\n",
        "# Compute TP, TN, FP, and FN\n",
        "cm = confusion_matrix(Y_test, Y_pred)\n",
        "\n",
        "# Display the confusion matrix as an image\n",
        "plt.imshow(cm, interpolation='nearest', cmap=plt.cm.Blues)\n",
        "plt.title('Confusion Matrix')\n",
        "plt.colorbar()\n",
        "\n",
        "# Add labels and values to the confusion matrix\n",
        "classes = ['0', '1']\n",
        "for i, row in enumerate(cm):\n",
        "    for j, value in enumerate(row):\n",
        "        plt.text(j, i, value, ha=\"center\", va=\"center\", color=\"white\" if value > cm.max() / 2 else \"black\")\n",
        "\n",
        "plt.xlabel('Predicted')\n",
        "plt.ylabel('True')\n",
        "plt.xticks([0, 1], classes)\n",
        "plt.yticks([0, 1], classes)\n",
        "\n",
        "# Show the plot\n",
        "plt.show()"
      ]
    },
    {
      "cell_type": "code",
      "execution_count": null,
      "metadata": {
        "colab": {
          "base_uri": "https://localhost:8080/",
          "height": 489
        },
        "id": "QoekXJzHXT_i",
        "outputId": "4c0d9a90-e5d4-4106-a1ed-2b22de5e5cd3"
      },
      "outputs": [
        {
          "data": {
            "image/png": "[encoded data removed]",
            "text/plain": [
              "<Figure size 640x480 with 1 Axes>"
            ]
          },
          "metadata": {},
          "output_type": "display_data"
        },
        {
          "name": "stdout",
          "output_type": "stream",
          "text": [
            "AUC: 94.93243243243242\n"
          ]
        }
      ],
      "source": [
        "import matplotlib.pyplot as plt\n",
        "from sklearn.metrics import roc_curve, auc\n",
        "\n",
        "# Compute FPR and TPR at various threshold settings\n",
        "fpr, tpr, thresholds = roc_curve(Y_test, Y_pred)\n",
        "\n",
        "# Compute AUC\n",
        "auc = auc(fpr, tpr)\n",
        "\n",
        "# Plot the ROC curve\n",
        "plt.plot(fpr, tpr)\n",
        "plt.plot([0, 1], [0, 1], 'r--')\n",
        "plt.xlabel('False Positive Rate')\n",
        "plt.ylabel('True Positive Rate')\n",
        "plt.title('Receiver Operating Characteristic (ROC) Curve')\n",
        "plt.show()\n",
        "\n",
        "# Print AUC\n",
        "print('AUC:', auc*100)"
      ]
    },
    {
      "cell_type": "code",
      "execution_count": null,
      "metadata": {
        "id": "jF45mf6lOZ1I"
      },
      "outputs": [],
      "source": [
        "# %%\n",
        "import matplotlib.pyplot as plt\n",
        "from sklearn.metrics import confusion_matrix\n",
        "# %%\n",
        "import matplotlib.pyplot as plt\n",
        "from sklearn.metrics import roc_curve, auc"
      ]
    },
    {
      "cell_type": "code",
      "execution_count": null,
      "metadata": {
        "id": "EVyUE7MYpi0I"
      },
      "outputs": [],
      "source": [
        "classifiers = [\n",
        "    DecisionTreeClassifier(),\n",
        "    RandomForestClassifier(),\n",
        "    GradientBoostingClassifier(),\n",
        "    CatBoostClassifier(),\n",
        "    BaggingClassifier(),\n",
        "    AdaBoostClassifier(),\n",
        "    SVC(),\n",
        "    KNeighborsClassifier(),\n",
        "]"
      ]
    },
    {
      "cell_type": "code",
      "execution_count": null,
      "metadata": {
        "colab": {
          "background_save": true,
          "base_uri": "https://localhost:8080/"
        },
        "id": "bOTRYhQ6NnH9",
        "outputId": "ea9bfe5c-65eb-4c54-f999-ea568e5cce70"
      },
      "outputs": [
        {
          "name": "stdout",
          "output_type": "stream",
          "text": [
            "DecisionTreeClassifier()\n",
            "10\n",
            "Accuracy: 93.88% Precision: 92.16% Recall: 95.92% F1 Score: 94.00% AUC-ROC: 93.8776\n",
            "20\n",
            "Accuracy: 94.90% Precision: 94.90% Recall: 94.90% F1 Score: 94.90% AUC-ROC: 94.8980\n",
            "30\n",
            "Accuracy: 94.59% Precision: 95.21% Recall: 93.92% F1 Score: 94.56% AUC-ROC: 94.5946\n",
            "40\n",
            "Accuracy: 94.67% Precision: 96.32% Recall: 92.89% F1 Score: 94.57% AUC-ROC: 94.6701\n",
            "50\n",
            "Accuracy: 94.11% Precision: 96.17% Recall: 91.87% F1 Score: 93.97% AUC-ROC: 94.1057\n",
            "RandomForestClassifier()\n",
            "10\n",
            "Accuracy: 94.90% Precision: 92.31% Recall: 97.96% F1 Score: 95.05% AUC-ROC: 94.8980\n",
            "20\n",
            "Accuracy: 94.39% Precision: 94.85% Recall: 93.88% F1 Score: 94.36% AUC-ROC: 94.3878\n",
            "30\n",
            "Accuracy: 94.93% Precision: 95.86% Recall: 93.92% F1 Score: 94.88% AUC-ROC: 94.9324\n",
            "40\n",
            "Accuracy: 94.67% Precision: 96.32% Recall: 92.89% F1 Score: 94.57% AUC-ROC: 94.6701\n",
            "50\n",
            "Accuracy: 94.31% Precision: 96.19% Recall: 92.28% F1 Score: 94.19% AUC-ROC: 94.3089\n",
            "GradientBoostingClassifier()\n",
            "10\n",
            "Accuracy: 93.88% Precision: 92.16% Recall: 95.92% F1 Score: 94.00% AUC-ROC: 93.8776\n",
            "20\n",
            "Accuracy: 94.39% Precision: 94.85% Recall: 93.88% F1 Score: 94.36% AUC-ROC: 94.3878\n",
            "30\n",
            "Accuracy: 94.26% Precision: 95.17% Recall: 93.24% F1 Score: 94.20% AUC-ROC: 94.2568\n",
            "40\n",
            "Accuracy: 94.67% Precision: 96.32% Recall: 92.89% F1 Score: 94.57% AUC-ROC: 94.6701\n",
            "50\n",
            "Accuracy: 93.90% Precision: 95.76% Recall: 91.87% F1 Score: 93.78% AUC-ROC: 93.9024\n",
            "<catboost.core.CatBoostClassifier object at 0x79bba9fe9300>\n",
            "10\n",
            "Accuracy: 93.88% Precision: 92.16% Recall: 95.92% F1 Score: 94.00% AUC-ROC: 93.8776\n",
            "20\n",
            "Accuracy: 94.90% Precision: 94.90% Recall: 94.90% F1 Score: 94.90% AUC-ROC: 94.8980\n",
            "30\n",
            "Accuracy: 94.59% Precision: 95.21% Recall: 93.92% F1 Score: 94.56% AUC-ROC: 94.5946\n",
            "40\n",
            "Accuracy: 94.92% Precision: 96.83% Recall: 92.89% F1 Score: 94.82% AUC-ROC: 94.9239\n",
            "50\n",
            "Accuracy: 94.11% Precision: 95.78% Recall: 92.28% F1 Score: 94.00% AUC-ROC: 94.1057\n",
            "BaggingClassifier()\n",
            "10\n",
            "Accuracy: 93.88% Precision: 92.16% Recall: 95.92% F1 Score: 94.00% AUC-ROC: 93.8776\n",
            "20\n",
            "Accuracy: 94.39% Precision: 94.85% Recall: 93.88% F1 Score: 94.36% AUC-ROC: 94.3878\n",
            "30\n",
            "Accuracy: 94.93% Precision: 95.86% Recall: 93.92% F1 Score: 94.88% AUC-ROC: 94.9324\n",
            "40\n",
            "Accuracy: 94.42% Precision: 95.81% Recall: 92.89% F1 Score: 94.33% AUC-ROC: 94.4162\n",
            "50\n",
            "Accuracy: 94.31% Precision: 96.19% Recall: 92.28% F1 Score: 94.19% AUC-ROC: 94.3089\n",
            "AdaBoostClassifier()\n",
            "10\n",
            "Accuracy: 93.88% Precision: 92.16% Recall: 95.92% F1 Score: 94.00% AUC-ROC: 93.8776\n",
            "20\n",
            "Accuracy: 94.39% Precision: 94.85% Recall: 93.88% F1 Score: 94.36% AUC-ROC: 94.3878\n",
            "30\n",
            "Accuracy: 94.59% Precision: 95.83% Recall: 93.24% F1 Score: 94.52% AUC-ROC: 94.5946\n",
            "40\n",
            "Accuracy: 94.67% Precision: 96.32% Recall: 92.89% F1 Score: 94.57% AUC-ROC: 94.6701\n",
            "50\n",
            "Accuracy: 94.11% Precision: 96.17% Recall: 91.87% F1 Score: 93.97% AUC-ROC: 94.1057\n",
            "SVC()\n",
            "10\n",
            "Accuracy: 93.88% Precision: 92.16% Recall: 95.92% F1 Score: 94.00% AUC-ROC: 93.8776\n",
            "20\n",
            "Accuracy: 94.90% Precision: 94.90% Recall: 94.90% F1 Score: 94.90% AUC-ROC: 94.8980\n",
            "30\n",
            "Accuracy: 94.59% Precision: 95.21% Recall: 93.92% F1 Score: 94.56% AUC-ROC: 94.5946\n",
            "40\n",
            "Accuracy: 94.67% Precision: 96.32% Recall: 92.89% F1 Score: 94.57% AUC-ROC: 94.6701\n",
            "50\n",
            "Accuracy: 94.31% Precision: 96.19% Recall: 92.28% F1 Score: 94.19% AUC-ROC: 94.3089\n",
            "KNeighborsClassifier()\n",
            "10\n",
            "Accuracy: 93.88% Precision: 92.16% Recall: 95.92% F1 Score: 94.00% AUC-ROC: 93.8776\n",
            "20\n",
            "Accuracy: 94.39% Precision: 94.85% Recall: 93.88% F1 Score: 94.36% AUC-ROC: 94.3878\n",
            "30\n",
            "Accuracy: 94.93% Precision: 95.86% Recall: 93.92% F1 Score: 94.88% AUC-ROC: 94.9324\n",
            "40\n",
            "Accuracy: 94.92% Precision: 96.83% Recall: 92.89% F1 Score: 94.82% AUC-ROC: 94.9239\n",
            "50\n",
            "Accuracy: 94.11% Precision: 96.17% Recall: 91.87% F1 Score: 93.97% AUC-ROC: 94.1057\n"
          ]
        }
      ],
      "source": [
        "for classifier in classifiers:\n",
        "  print(classifier)\n",
        "  for n in range(10,51,10):\n",
        "    datainput=pd.read_csv('/content/drive/MyDrive/dmt_proj/creditcard.csv')\n",
        "\n",
        "    datainput = datainput.fillna(datainput.mean())\n",
        "\n",
        "    #adasyn = ADASYN()\n",
        "    #X_resampled, y_resampled = adasyn.fit_resample(datainput.drop(columns=['Class']), datainput['Class'])\n",
        "    #datainput = pd.concat([pd.DataFrame(X_resampled), pd.DataFrame(y_resampled, columns=['Class'])], axis=1)\n",
        "\n",
        "    scaler = StandardScaler()\n",
        "    datainput.iloc[:, :-1] = scaler.fit_transform(datainput.iloc[:, :-1])\n",
        "\n",
        "    valid=datainput[datainput['Class']==0]\n",
        "    fraud=datainput[datainput['Class']==1]\n",
        "\n",
        "    class_balance= True if (len(fraud)/len(valid))>=.90 else False\n",
        "\n",
        "    # %%\n",
        "    fraud_test = fraud.sample(frac=n/100, random_state=42)\n",
        "    fraud = fraud.drop(fraud_test.index)\n",
        "    valid_test = valid.sample(frac=len(fraud_test)/len(valid), random_state=42)\n",
        "    valid = valid.drop(valid_test.index)\n",
        "\n",
        "    # %%\n",
        "    train_list = []\n",
        "    global classifiers_list\n",
        "    classifiers_list=[]\n",
        "    i=0\n",
        "    if class_balance:\n",
        "      fraud_train_size=1000\n",
        "      limit=(len(valid)//1000)\n",
        "      while i<limit:\n",
        "        valid_subset = valid.sample(n=fraud_train_size)\n",
        "        valid = valid.drop(valid_subset.index)\n",
        "        fraud_subset = fraud.sample(n=fraud_train_size)\n",
        "        fraud = fraud.drop(fraud_subset.index)\n",
        "        train_list.append(pd.concat([valid_subset, fraud_subset]))\n",
        "        classifiers_list.append(allocate_classifier())\n",
        "        i+=1\n",
        "      if len(valid)>0 and len(fraud)>0:\n",
        "          train_list.append(pd.concat([valid,fraud]))\n",
        "          classifiers_list.append(allocate_classifier())\n",
        "    else:\n",
        "      fraud_train_size=len(fraud)\n",
        "      limit=(len(valid)//len(fraud))\n",
        "      while i<limit:\n",
        "          subset = valid.sample(n=fraud_train_size)\n",
        "          valid = valid.drop(subset.index)\n",
        "          train_list.append(subset)\n",
        "          classifiers_list.append(allocate_classifier())\n",
        "          i+=1\n",
        "      for i in range(len(train_list)):\n",
        "          train_list[i] = pd.concat([fraud, train_list[i]])\n",
        "      if len(valid)>0:\n",
        "          last_piece=fraud.sample(n=len(valid))\n",
        "          train_list.append(pd.concat([valid,last_piece]))\n",
        "          classifiers_list.append(allocate_classifier())\n",
        "\n",
        "    # %%\n",
        "    # Parallel training of classifiers\n",
        "    classifiers_list=Parallel(n_jobs=-1)(delayed(train_classifier)(i, train_list[i].iloc[:,:-1].values, train_list[i].iloc[:, -1].values) for i in range(len(classifiers_list)))\n",
        "\n",
        "    # %%\n",
        "    test=pd.concat([fraud_test,valid_test])\n",
        "\n",
        "    # %%\n",
        "    X_test=test.iloc[:,:-1].values\n",
        "    Y_test=test.iloc[:, -1].values\n",
        "\n",
        "    # %%\n",
        "    # Initialize a list to store predictions\n",
        "    pred = []\n",
        "    for i in range(len(classifiers_list)):\n",
        "        pred.append(classifiers_list[i].predict(X_test))\n",
        "\n",
        "    # %%\n",
        "    Y_pred=[]\n",
        "    for i in range(len(pred[0])):\n",
        "        temp=[]\n",
        "        for j in pred:\n",
        "            temp.append(j[i])\n",
        "        Y_pred.append([1 if temp.count(1)>temp.count(0) else 0])\n",
        "\n",
        "    # %%\n",
        "    accuracy = accuracy_score(Y_test, Y_pred)\n",
        "    precision = precision_score(Y_test, Y_pred)\n",
        "    recall = recall_score(Y_test, Y_pred)\n",
        "    f1 = f1_score(Y_test, Y_pred)\n",
        "    auc_roc = roc_auc_score(Y_test, Y_pred)\n",
        "\n",
        "    # %%\n",
        "    # Print evaluation metrics\n",
        "    print(n)\n",
        "    print(f\"Accuracy: {accuracy*100:.2f}% Precision: {precision*100:.2f}% Recall: {recall*100:.2f}% F1 Score: {f1*100:.2f}% AUC-ROC: {auc_roc*100:.4f}\")\n"
      ]
    },
    {
      "cell_type": "code",
      "execution_count": null,
      "metadata": {
        "id": "rCCDp1SLvhyh"
      },
      "outputs": [],
      "source": []
    }
  ],
  "metadata": {
    "colab": {
      "provenance": []
    },
    "kernelspec": {
      "display_name": "Python 3",
      "name": "python3"
    },
    "language_info": {
      "name": "python"
    }
  },
  "nbformat": 4,
  "nbformat_minor": 0
}